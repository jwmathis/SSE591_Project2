{
 "cells": [
  {
   "cell_type": "markdown",
   "metadata": {},
   "source": [
    "       38. Consider a generator function that generates 10 integers and use it to build an array\n",
    "\n",
    "       44. Consider a random 10x2 matrix representing cartesian coordinates, convert them to polar coordinates \n",
    "       \n",
    "       51. Create a structured array representing a position (x,y) and a color (r,g,b)\n",
    "\n",
    "       https://github.com/rougier/numpy-100"
   ]
  },
  {
   "cell_type": "markdown",
   "metadata": {},
   "source": [
    "## Optimal 2D Array Shape Creation"
   ]
  },
  {
   "cell_type": "code",
   "execution_count": 36,
   "metadata": {},
   "outputs": [
    {
     "name": "stdout",
     "output_type": "stream",
     "text": [
      "[0, 1, 2, 3, 4, 5, 6, 7, 8, 9, 10, 11, 12, 13, 14]\n",
      "\n",
      "[[ 0  1  2  3  4]\n",
      " [ 5  6  7  8  9]\n",
      " [10 11 12 13 14]]\n"
     ]
    }
   ],
   "source": [
    "#Import modules\n",
    "import numpy as np\n",
    "import math\n",
    "\n",
    "#Generator function that genearates N integers\n",
    "def gen_integers(N):\n",
    "    for i in range(N):\n",
    "        yield i\n",
    "\n",
    "#Function to get best 2D shape array\n",
    "def find_optimal_shape(n):\n",
    "    sqrt_n = int(math.sqrt(n))\n",
    "    for i in range(sqrt_n, 0, -1):\n",
    "        if n % i == 0:\n",
    "            return (i, n // i)\n",
    "    return (n, 1)\n",
    "\n",
    "#Building a numpy array with the generator function\n",
    "n=15\n",
    "my_list = list(gen_integers(n))\n",
    "print(f\"{my_list}\\n\")\n",
    "\n",
    "#Building NumPy array\n",
    "my_arr = np.array(my_list).reshape((find_optimal_shape(n)))\n",
    "print(my_arr)\n"
   ]
  },
  {
   "cell_type": "markdown",
   "metadata": {},
   "source": [
    "#### Cartesian Coordinates to Polar Coordinates"
   ]
  },
  {
   "cell_type": "code",
   "execution_count": 25,
   "metadata": {},
   "outputs": [
    {
     "name": "stdout",
     "output_type": "stream",
     "text": [
      "Cartesian Coordinates (x, y):\n",
      "[[-8.26059879 -8.93480275]\n",
      " [-9.02256515  9.7287643 ]\n",
      " [-2.53292918  5.92863116]\n",
      " [ 0.96602809  7.66974896]\n",
      " [-2.50571455  4.66322113]\n",
      " [-1.05398285  7.34690694]\n",
      " [-1.87137071  5.1722269 ]\n",
      " [ 7.24463359 -0.71161042]]\n",
      "\n",
      "Polar Coordinates (R, theta):\n",
      "[[12.16832744 -1.45933829]\n",
      " [13.26859211  1.46836807]\n",
      " [ 6.44704565  1.40369618]\n",
      " [ 7.73034665  1.44114533]\n",
      " [ 5.29379228  1.35955162]\n",
      " [ 7.42212378  1.43551596]\n",
      " [ 5.50035994  1.37981243]\n",
      " [ 7.27949897 -0.61847576]]\n",
      "\n"
     ]
    }
   ],
   "source": [
    "import numpy as np\n",
    "cartesian_coords = np.random.rand(8, 2) * 20 - 10\n",
    "print(\"Cartesian Coordinates (x, y):\")\n",
    "print(f\"{cartesian_coords}\\n\")\n",
    "x, y = cartesian_coords[:, 0], cartesian_coords[:, 1]\n",
    "\n",
    "r = np.sqrt(x ** 2 + y ** 2)\n",
    "theta = np.arctan(y, x)\n",
    "print(\"Polar Coordinates (R, theta):\")\n",
    "polar_coords = np.column_stack((r,theta))\n",
    "print(f\"{polar_coords}\\n\")"
   ]
  },
  {
   "cell_type": "markdown",
   "metadata": {},
   "source": [
    "# Strucutred Arrays"
   ]
  },
  {
   "cell_type": "code",
   "execution_count": 32,
   "metadata": {},
   "outputs": [
    {
     "name": "stdout",
     "output_type": "stream",
     "text": [
      "[((1.,  2.), (255.,   0.,   0.)) ((3.,  4.), (  0., 255.,   0.))\n",
      " ((5.,  6.), (  0.,   0., 255.)) ((7.,  8.), (255., 255.,   0.))\n",
      " ((9., 10.), (255.,   0., 255.))]\n"
     ]
    }
   ],
   "source": [
    "import numpy as np\n",
    "\n",
    "data = np.zeros(5, dtype=[('position', [ ('x', 'float64'), \n",
    "                                        ('y', 'float64')]),\n",
    "                            ('color', [ ('r', 'float64'),\n",
    "                                       ('g', 'float64'),\n",
    "                                       ('b', 'float64')])])\n",
    "\n",
    "data['position'] = [(1.0, 2.0), (3.0, 4.0), (5.0, 6.0), (7.0, 8.0), (9.0, 10.0)]\n",
    "data['color'] = [(255, 0, 0), (0, 255, 0), (0, 0, 255), (255, 255, 0), (255, 0, 255)]\n",
    "\n",
    "print(data)"
   ]
  },
  {
   "cell_type": "code",
   "execution_count": 14,
   "metadata": {},
   "outputs": [
    {
     "name": "stdout",
     "output_type": "stream",
     "text": [
      "Original array: \n",
      "[[ 0  1  2  3]\n",
      " [ 4  5  6  7]\n",
      " [ 8  9 10 11]\n",
      " [12 13 14 15]]\n",
      "\n",
      "Extracted subpart centered at (1, 1) with shape (3, 3): \n",
      "[[-1 -1 -1]\n",
      " [-1  0  1]\n",
      " [-1  4  5]]\n",
      "\n"
     ]
    }
   ],
   "source": [
    "import numpy as np\n",
    "\n",
    "def extract_subpart(arr, center, shape, fill_value = 0):\n",
    "    center = np.array(center)\n",
    "    shape = np.array(shape)\n",
    "    half_shape = shape // 2\n",
    "\n",
    "    start = center - half_shape\n",
    "    end = start + shape\n",
    "\n",
    "    pad_width = np.maximum(half_shape, 0)\n",
    "    padded_arr = np.pad(arr, [(pad_width[i], pad_width[i]) for i in range(arr.ndim)], constant_values = fill_value)\n",
    "\n",
    "    slices = tuple(slice(start[i], end[i]) for i in range(arr.ndim))\n",
    "    subpart = padded_arr[slices]\n",
    "\n",
    "    return subpart\n",
    "\n",
    "arr = np.arange(16).reshape(4,4)\n",
    "center = (1, 1)\n",
    "shape = (3, 3)\n",
    "fill_value = -1\n",
    "\n",
    "subpart = extract_subpart(arr, center, shape, fill_value)\n",
    "print(f\"Original array: \\n{arr}\\n\")\n",
    "print(f\"Extracted subpart centered at {center} with shape {shape}: \\n{subpart}\\n\")"
   ]
  },
  {
   "cell_type": "code",
   "execution_count": null,
   "metadata": {},
   "outputs": [],
   "source": []
  }
 ],
 "metadata": {
  "kernelspec": {
   "display_name": "my-env",
   "language": "python",
   "name": "python3"
  },
  "language_info": {
   "codemirror_mode": {
    "name": "ipython",
    "version": 3
   },
   "file_extension": ".py",
   "mimetype": "text/x-python",
   "name": "python",
   "nbconvert_exporter": "python",
   "pygments_lexer": "ipython3",
   "version": "3.12.3"
  }
 },
 "nbformat": 4,
 "nbformat_minor": 2
}
