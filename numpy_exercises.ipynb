{
 "cells": [
  {
   "cell_type": "markdown",
   "metadata": {},
   "source": [
    "       38. Consider a generator function that generates 10 integers and use it to build an array\n",
    "\n",
    "       44. Consider a random 10x2 matrix representing cartesian coordinates, convert them to polar coordinates \n",
    "       \n",
    "       51. Create a structured array representing a position (x,y) and a color (r,g,b)"
   ]
  },
  {
   "cell_type": "markdown",
   "metadata": {},
   "source": [
    "# Optimal 2D Array Shape Creation"
   ]
  },
  {
   "cell_type": "code",
   "execution_count": 21,
   "metadata": {},
   "outputs": [
    {
     "name": "stdout",
     "output_type": "stream",
     "text": [
      "[0, 1, 2, 3, 4, 5, 6, 7, 8, 9, 10, 11, 12]\n",
      "\n",
      "[[ 0  1  2  3  4  5  6  7  8  9 10 11 12]]\n"
     ]
    }
   ],
   "source": [
    "#Import modules\n",
    "import numpy as np\n",
    "import math\n",
    "\n",
    "#Generator function that genearates N integers\n",
    "def gen_integers(N):\n",
    "    for i in range(N):\n",
    "        yield i\n",
    "\n",
    "#Function to get best 2D shape array\n",
    "def find_optimal_shape(n):\n",
    "    sqrt_n = int(math.sqrt(n))\n",
    "    for i in range(sqrt_n, 0, -1):\n",
    "        if n % i == 0:\n",
    "            return (i, n // i)\n",
    "    return (n, 1)\n",
    "\n",
    "#Building a numpy array with the generator function\n",
    "n=13\n",
    "my_list = list(gen_integers(n))\n",
    "print(f\"{my_list}\\n\")\n",
    "\n",
    "#Building NumPy array\n",
    "my_arr = np.array(my_list).reshape((find_optimal_shape(n)))\n",
    "print(my_arr)\n"
   ]
  },
  {
   "cell_type": "markdown",
   "metadata": {},
   "source": [
    "# Cartesian Coordinates to Polar Coordinates"
   ]
  },
  {
   "cell_type": "code",
   "execution_count": 8,
   "metadata": {},
   "outputs": [
    {
     "name": "stdout",
     "output_type": "stream",
     "text": [
      "[[-9.95622736  4.12959266]\n",
      " [ 2.68655542 -0.36386188]\n",
      " [-8.55065463  4.07648385]\n",
      " [ 6.55158466  9.9966026 ]\n",
      " [-3.77739155  7.70924595]\n",
      " [-6.94547798 -7.04528572]\n",
      " [ 3.07722864  0.53584752]\n",
      " [ 9.80450486 -9.16041811]\n",
      " [-6.96433078  6.84044398]\n",
      " [ 0.55647839  4.52000197]]\n",
      "\n",
      "[[10.77868261  1.33321506]\n",
      " [ 2.71108382 -0.34897017]\n",
      " [ 9.47266674  1.33023715]\n",
      " [11.95221006  1.47109403]\n",
      " [ 8.58493797  1.44180221]\n",
      " [ 9.89321562 -1.42979928]\n",
      " [ 3.12353464  0.4919127 ]\n",
      " [13.41795721 -1.46206157]\n",
      " [ 9.76184292  1.42563525]\n",
      " [ 4.55412845  1.35306468]]\n",
      "\n"
     ]
    }
   ],
   "source": [
    "import numpy as np\n",
    "cartesian_coords = np.random.rand(10, 2) * 20 - 10\n",
    "print(f\"{cartesian_coords}\\n\")\n",
    "x, y = cartesian_coords[:, 0], cartesian_coords[:, 1]\n",
    "\n",
    "r = np.sqrt(x ** 2 + y ** 2)\n",
    "theta = np.arctan(y, x)\n",
    "\n",
    "polar_coords = np.column_stack((r,theta))\n",
    "print(f\"{polar_coords}\\n\")"
   ]
  },
  {
   "cell_type": "markdown",
   "metadata": {},
   "source": [
    "# Strucutred Arrays"
   ]
  },
  {
   "cell_type": "code",
   "execution_count": 15,
   "metadata": {},
   "outputs": [
    {
     "name": "stdout",
     "output_type": "stream",
     "text": [
      "[((1.,  2.), (255.,   0.,   0.)) ((3.,  4.), (  0., 255.,   0.))\n",
      " ((5.,  6.), (  0.,   0., 255.)) ((7.,  8.), (255., 255.,   0.))\n",
      " ((9., 10.), (255.,   0., 255.))]\n"
     ]
    },
    {
     "name": "stderr",
     "output_type": "stream",
     "text": [
      "/var/folders/s0/399qjfv1781c67074w7lg0tc0000gn/T/ipykernel_19197/3009307543.py:3: FutureWarning: Passing (type, 1) or '1type' as a synonym of type is deprecated; in a future version of numpy, it will be understood as (type, (1,)) / '(1,)type'.\n",
      "  data = np.zeros(5, dtype=[('position', [ ('x', float, 1),\n"
     ]
    }
   ],
   "source": [
    "import numpy as np\n",
    "\n",
    "data = np.zeros(5, dtype=[('position', [ ('x', float, 1), \n",
    "                                        ('y', float, 1)]),\n",
    "                            ('color', [ ('r', float, 1),\n",
    "                                       ('g', float, 1),\n",
    "                                       ('b', float, 1)])])\n",
    "\n",
    "data['position'] = [(1.0, 2.0), (3.0, 4.0), (5.0, 6.0), (7.0, 8.0), (9.0, 10.0)]\n",
    "data['color'] = [(255, 0, 0), (0, 255, 0), (0, 0, 255), (255, 255, 0), (255, 0, 255)]\n",
    "\n",
    "print(data)"
   ]
  },
  {
   "cell_type": "code",
   "execution_count": 14,
   "metadata": {},
   "outputs": [
    {
     "name": "stdout",
     "output_type": "stream",
     "text": [
      "Original array: \n",
      "[[ 0  1  2  3]\n",
      " [ 4  5  6  7]\n",
      " [ 8  9 10 11]\n",
      " [12 13 14 15]]\n",
      "\n",
      "Extracted subpart centered at (1, 1) with shape (3, 3): \n",
      "[[-1 -1 -1]\n",
      " [-1  0  1]\n",
      " [-1  4  5]]\n",
      "\n"
     ]
    }
   ],
   "source": [
    "import numpy as np\n",
    "\n",
    "def extract_subpart(arr, center, shape, fill_value = 0):\n",
    "    center = np.array(center)\n",
    "    shape = np.array(shape)\n",
    "    half_shape = shape // 2\n",
    "\n",
    "    start = center - half_shape\n",
    "    end = start + shape\n",
    "\n",
    "    pad_width = np.maximum(half_shape, 0)\n",
    "    padded_arr = np.pad(arr, [(pad_width[i], pad_width[i]) for i in range(arr.ndim)], constant_values = fill_value)\n",
    "\n",
    "    slices = tuple(slice(start[i], end[i]) for i in range(arr.ndim))\n",
    "    subpart = padded_arr[slices]\n",
    "\n",
    "    return subpart\n",
    "\n",
    "arr = np.arange(16).reshape(4,4)\n",
    "center = (1, 1)\n",
    "shape = (3, 3)\n",
    "fill_value = -1\n",
    "\n",
    "subpart = extract_subpart(arr, center, shape, fill_value)\n",
    "print(f\"Original array: \\n{arr}\\n\")\n",
    "print(f\"Extracted subpart centered at {center} with shape {shape}: \\n{subpart}\\n\")"
   ]
  },
  {
   "cell_type": "code",
   "execution_count": null,
   "metadata": {},
   "outputs": [],
   "source": []
  }
 ],
 "metadata": {
  "kernelspec": {
   "display_name": "my-env",
   "language": "python",
   "name": "python3"
  },
  "language_info": {
   "codemirror_mode": {
    "name": "ipython",
    "version": 3
   },
   "file_extension": ".py",
   "mimetype": "text/x-python",
   "name": "python",
   "nbconvert_exporter": "python",
   "pygments_lexer": "ipython3",
   "version": "3.12.3"
  }
 },
 "nbformat": 4,
 "nbformat_minor": 2
}
