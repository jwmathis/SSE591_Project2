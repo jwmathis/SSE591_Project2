38. Consider a generator function that generates 10 integers and use it to build an array

44. Consider a random 10x2 matrix representing cartesian coordinates, convert them to polar coordinates 

51. Create a structured array representing a position (x,y) and a color (r,g,b)
