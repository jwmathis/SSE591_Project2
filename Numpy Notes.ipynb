{
 "cells": [
  {
   "cell_type": "markdown",
   "metadata": {},
   "source": [
    "# Introduction\n",
    "\n",
    "- Purpose: will learn how to effectively load, store, and manipulate in-memory data in Python\n",
    "\n",
    "- Best to think of all data fundamentally as **arrays of numbers**\n",
    "\n",
    "- Images can be thought of as 2D arrays: pixel brightness across the area\n",
    "\n",
    "- Sound clips as 1D arrays: intensity versus time\n",
    "\n",
    "- Text can be thought of as binary digits representing the frequency of certain words or pairs of words\n",
    "\n",
    "- Regardless of the data, first step is to convert it to an array of numbers\n",
    "\n",
    "- Efficient storage and manipulation of numerical arrays is fundamental process of doing data science\n",
    "    - NumPy package and Pandas Package are specialized tools to handle such numerical arrays\n",
    "- NumPy arrays are similar to Python's built-in `list` type\n",
    "    - But NumPy arrays are more efficient storage and data operations as arrays grow larger\n"
   ]
  },
  {
   "cell_type": "code",
   "execution_count": 4,
   "metadata": {},
   "outputs": [
    {
     "data": {
      "text/plain": [
       "'1.26.4'"
      ]
     },
     "execution_count": 4,
     "metadata": {},
     "output_type": "execute_result"
    }
   ],
   "source": [
    "import numpy\n",
    "numpy.__version__\n",
    "\n",
    "\n",
    "\n",
    "\n"
   ]
  },
  {
   "cell_type": "markdown",
   "metadata": {},
   "source": [
    "## Understanding Data Types in Python\n",
    "\n"
   ]
  },
  {
   "cell_type": "code",
   "execution_count": 3,
   "metadata": {},
   "outputs": [
    {
     "data": {
      "text/plain": [
       "array('i', [0, 1, 2, 3, 4, 5, 6, 7, 8, 9])"
      ]
     },
     "execution_count": 3,
     "metadata": {},
     "output_type": "execute_result"
    }
   ],
   "source": [
    "import array\n",
    "\n",
    "L = list(range(10))\n",
    "A = array.array('i', L)\n",
    "A"
   ]
  },
  {
   "cell_type": "code",
   "execution_count": 12,
   "metadata": {},
   "outputs": [
    {
     "data": {
      "text/plain": [
       "array([[2, 3, 4],\n",
       "       [4, 5, 6],\n",
       "       [6, 7, 8]])"
      ]
     },
     "execution_count": 12,
     "metadata": {},
     "output_type": "execute_result"
    }
   ],
   "source": [
    "import numpy as np\n",
    "\n",
    "#integer array:\n",
    "np.array([1, 4, 2, 5, 3])\n",
    "\n",
    "np.array([3.14, 1, 2, 3, 4])\n",
    "\n",
    "np.array([1, 3, 7, 8], dtype='float32')\n",
    "\n",
    "# nested lists result in multi-dimensional arrays\n",
    "# 2D array where the inner loop is treated as rows\n",
    "np.array([range(i, i + 3) for i in [2, 4, 6]])"
   ]
  },
  {
   "cell_type": "code",
   "execution_count": 20,
   "metadata": {},
   "outputs": [
    {
     "name": "stdout",
     "output_type": "stream",
     "text": [
      "[[0 0 0 0 0]\n",
      " [0 0 0 0 0]\n",
      " [0 0 0 0 0]]\n",
      "\n",
      "\n",
      "[1. 1. 1. 1. 1. 1. 1. 1. 1. 1.]\n",
      "\n",
      "[[3.14 3.14]\n",
      " [3.14 3.14]\n",
      " [3.14 3.14]\n",
      " [3.14 3.14]\n",
      " [3.14 3.14]]\n",
      "[ 5  8 11 14 17 20 23 26 29 32 35 38 41 44 47 50 53 56 59 62]\n",
      "\n",
      "\n",
      "[0.         0.16666667 0.33333333 0.5        0.66666667 0.83333333\n",
      " 1.        ]\n",
      "\n",
      "\n",
      "[[0.66718794 0.39318742 0.42840278]\n",
      " [0.51740212 0.36759477 0.01848693]]\n"
     ]
    }
   ],
   "source": [
    "# 3x5 array of 0s\n",
    "print(np.zeros((3, 5), dtype='int'))\n",
    "print(\"\\n\")\n",
    "print(np.ones(10, dtype=float))\n",
    "print(f\"\\n{np.full((5, 2), 3.14)}\")\n",
    "#similar to range() function:\n",
    "#start, stop, step\n",
    "print(np.arange(5, 65, 3))\n",
    "print(\"\\n\")\n",
    "print(np.linspace(0, 1, 7))\n",
    "print(\"\\n\")\n",
    "print(np.random.random((2,3)))"
   ]
  },
  {
   "cell_type": "code",
   "execution_count": 37,
   "metadata": {},
   "outputs": [
    {
     "name": "stdout",
     "output_type": "stream",
     "text": [
      "[[3 5 2 4]\n",
      " [7 6 8 8]\n",
      " [1 6 7 7]]\n",
      "[1 6 7 7]\n"
     ]
    }
   ],
   "source": [
    "import numpy as np\n",
    "np.random.seed(0)\n",
    "\n",
    "x1 = np.random.randint(10, size=6)\n",
    "x2 = np.random.randint(10, size=(3,4))\n",
    "x3 = np.random.randint(10, size=(3,4,5))\n",
    "print(x2)\n",
    "print(x2[2])\n"
   ]
  },
  {
   "cell_type": "code",
   "execution_count": 42,
   "metadata": {},
   "outputs": [
    {
     "data": {
      "text/plain": [
       "array([[1, 2, 3],\n",
       "       [4, 5, 6],\n",
       "       [7, 8, 9]])"
      ]
     },
     "execution_count": 42,
     "metadata": {},
     "output_type": "execute_result"
    }
   ],
   "source": [
    "grid = np.arange(1,10).reshape((3, 3))\n",
    "grid"
   ]
  }
 ],
 "metadata": {
  "kernelspec": {
   "display_name": "Python 3",
   "language": "python",
   "name": "python3"
  },
  "language_info": {
   "codemirror_mode": {
    "name": "ipython",
    "version": 3
   },
   "file_extension": ".py",
   "mimetype": "text/x-python",
   "name": "python",
   "nbconvert_exporter": "python",
   "pygments_lexer": "ipython3",
   "version": "3.12.3"
  }
 },
 "nbformat": 4,
 "nbformat_minor": 2
}
