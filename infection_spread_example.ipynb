{
 "cells": [
  {
   "cell_type": "markdown",
   "metadata": {},
   "source": [
    "# Infection Spread Model\n",
    "\n",
    "*Purpose: to model infection spread using NumPy by implementing the Susceptible, Infected, and Recovered (SIR) model.*"
   ]
  },
  {
   "cell_type": "code",
   "execution_count": 2,
   "metadata": {},
   "outputs": [],
   "source": [
    "#Importing modules\n",
    "import numpy as np\n",
    "\n",
    "#Define the initial conditions\n",
    "initial_susceptible = 10\n",
    "initial_infected = 1\n",
    "initial_recovered = 0\n",
    "\n",
    "#Define model parameters\n",
    "infection_rate = 0.9\n",
    "recovery_rate = 0.1\n",
    "num_of_days = 200\n",
    "\n",
    "#Initialize arrays\n",
    "susceptible = np.zeros(num_of_days).reshape(10, 20)\n",
    "infected = np.zeros(num_of_days).reshape(10, 20)\n",
    "recovered = np.zeros(num_of_days).reshape(10, 20)\n",
    "\n",
    "susceptible[0,0] = initial_susceptible\n",
    "infected[0,0] = initial_infected\n",
    "recovered[0,0] = initial_recovered"
   ]
  }
 ],
 "metadata": {
  "kernelspec": {
   "display_name": "my-env",
   "language": "python",
   "name": "python3"
  },
  "language_info": {
   "codemirror_mode": {
    "name": "ipython",
    "version": 3
   },
   "file_extension": ".py",
   "mimetype": "text/x-python",
   "name": "python",
   "nbconvert_exporter": "python",
   "pygments_lexer": "ipython3",
   "version": "3.12.3"
  }
 },
 "nbformat": 4,
 "nbformat_minor": 2
}
