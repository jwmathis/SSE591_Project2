{
 "cells": [
  {
   "cell_type": "markdown",
   "metadata": {},
   "source": [
    "# Infection Spread Model\n",
    "\n",
    "*Purpose: to model infection spread using NumPy by implementing the Susceptible, Infected, and Recovered (SIR) model.*"
   ]
  },
  {
   "cell_type": "code",
   "execution_count": 2,
   "metadata": {},
   "outputs": [],
   "source": [
    "#Importing modules\n",
    "import numpy as np\n",
    "\n",
    "#Define the initial conditions\n",
    "initial_susceptible = 10 #S0\n",
    "initial_infected = 1 #I0\n",
    "initial_recovered = 0 #R0\n",
    "\n",
    "#Define model parameters\n",
    "infection_rate = 0.9 #beta\n",
    "recovery_rate = 0.1 #gamma\n",
    "days = 200 #number of days to sample\n",
    "\n",
    "#Initialize arrays\n",
    "susceptible = np.zeros(days).reshape(10, 20) #implement exercise function to reshape for optimal\n",
    "infected = np.zeros(days).reshape(10, 20)\n",
    "recovered = np.zeros(days).reshape(10, 20)\n",
    "\n",
    "susceptible[0,0] = initial_susceptible\n",
    "infected[0,0] = initial_infected\n",
    "recovered[0,0] = initial_recovered\n",
    "\n",
    "for t in range(1, days):\n",
    "    susceptible[t] = susceptible - infection_rate * susceptible[t-1] * infection_rate[t-1] / days\n",
    "    infected[t] = infected[t-1] + infection_rate * susceptible[t-1] * infection_rate[t-1] / days\n",
    "    recovered[t] = recovered[t-1] + recovery_rate * infected[t-1]"
   ]
  },
  {
   "cell_type": "markdown",
   "metadata": {},
   "source": [
    "# Modeling simple SIR "
   ]
  },
  {
   "cell_type": "code",
   "execution_count": null,
   "metadata": {},
   "outputs": [],
   "source": [
    "def SIR_model(beta, gamma, days, S0, I0, R0):\n",
    "    S0 = S0\n",
    "    I0 = I0\n",
    "    R0 = R0\n",
    "\n",
    "    beta = beta\n",
    "    gamma = gamma\n",
    "    days = days\n",
    "\n",
    "    #Initialize arrays\n",
    "    susceptible = np.zeros(days).reshape(10, 20) #implement exercise function to reshape for optimal\n",
    "    infected = np.zeros(days).reshape(10, 20)\n",
    "    recovered = np.zeros(days).reshape(10, 20)\n",
    "\n",
    "    "
   ]
  }
 ],
 "metadata": {
  "kernelspec": {
   "display_name": "my-env",
   "language": "python",
   "name": "python3"
  },
  "language_info": {
   "codemirror_mode": {
    "name": "ipython",
    "version": 3
   },
   "file_extension": ".py",
   "mimetype": "text/x-python",
   "name": "python",
   "nbconvert_exporter": "python",
   "pygments_lexer": "ipython3",
   "version": "3.12.3"
  }
 },
 "nbformat": 4,
 "nbformat_minor": 2
}
