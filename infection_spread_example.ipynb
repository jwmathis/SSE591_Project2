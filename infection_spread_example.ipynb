{
 "cells": [
  {
   "cell_type": "markdown",
   "metadata": {},
   "source": [
    "# Infection Spread Model\n",
    "\n",
    "*Purpose: to model infection spread using NumPy by implementing the Susceptible, Infected, and Recovered (SIR) model.*"
   ]
  },
  {
   "cell_type": "code",
   "execution_count": 2,
   "metadata": {},
   "outputs": [],
   "source": [
    "#Importing modules\n",
    "import numpy as np\n",
    "\n",
    "#Define the initial conditions\n",
    "initial_susceptible = 10 #S0\n",
    "initial_infected = 1 #I0\n",
    "initial_recovered = 0 #R0\n",
    "\n",
    "#Define model parameters\n",
    "infection_rate = 0.9 #beta\n",
    "recovery_rate = 0.1 #gamma\n",
    "days = 200 #number of days to sample\n",
    "\n",
    "#Initialize arrays\n",
    "susceptible = np.zeros(days).reshape(10, 20) #implement exercise function to reshape for optimal\n",
    "infected = np.zeros(days).reshape(10, 20)\n",
    "recovered = np.zeros(days).reshape(10, 20)\n",
    "\n",
    "susceptible[0,0] = initial_susceptible\n",
    "infected[0,0] = initial_infected\n",
    "recovered[0,0] = initial_recovered\n",
    "\n",
    "for t in range(1, days):\n",
    "    susceptible[t] = susceptible - infection_rate * susceptible[t-1] * infection_rate[t-1] / days\n",
    "    infected[t] = infected[t-1] + infection_rate * susceptible[t-1] * infection_rate[t-1] / days\n",
    "    recovered[t] = recovered[t-1] + recovery_rate * infected[t-1]"
   ]
  },
  {
   "cell_type": "markdown",
   "metadata": {},
   "source": [
    "# Modeling Infection Spread using the SIR Model"
   ]
  },
  {
   "cell_type": "code",
   "execution_count": null,
   "metadata": {},
   "outputs": [],
   "source": [
    "import numpy as np\n",
    "\n",
    "def SIR_model(S0, I0, R0, beta, gamma, days):\n",
    "    dtype = [('day', int), ('susceptible', float), ('infected', float), ('recovered', float)]\n",
    "    #Initialize arrays\n",
    "    data = np.zeros(days, dtype=dtype)\n",
    "    data['day'] = np.arange(days)\n",
    "    data['susceptible'][0] = S0\n",
    "    data['infected'][0] = I0\n",
    "    data['recovered'][0] = R0\n",
    "    \n",
    "    #Total population\n",
    "    N = S0 + I0 + R0 \n",
    "\n",
    "    #Calculate values\n",
    "    for t in range(1, days):\n",
    "        data['susceptible'][t] = data['susceptible'][t-1] - beta * data['susceptible'][t-1] * data['infected'][t-1] / N\n",
    "        data['infected'][t] = data['infected'][t-1] + beta * data['susceptible'][t-1] * data['infected'][t-1] / N - gamma * data['infected'][t-1]\n",
    "        data['recovered'][t] = data['recovered'][t-1] + gamma * data['infected'][t-1]\n",
    "\n",
    "    return data\n",
    "\n",
    "# --------------------------\n",
    "# Main Program\n",
    "# --------------------------\n",
    "\n",
    "# Initial values\n",
    "S0 = 990 #Number of susceptible individuals\n",
    "I0 = 10 #Number of infected individuals\n",
    "R0 = 0 #Number of recovered individuals\n",
    "beta = 0.3 #infection rate\n",
    "gamma = 0.1 #recovery rate\n",
    "days = 160 #Number of days to simulate\n",
    "\n",
    "SIR_data = SIR_model(S0, I0, R0, beta, gamma, days)\n",
    "\n",
    "print(\"\\nSusceptible:\\n\", SIR_data['susceptible'])\n",
    "print(\"\\nInfected:\\n\", SIR_data['infected'])\n",
    "print(\"\\nRecovered:\\n\", SIR_data['recovered'])\n",
    "\n"
   ]
  },
  {
   "cell_type": "markdown",
   "metadata": {},
   "source": [
    "### Data Analysis on the SIR Model"
   ]
  },
  {
   "cell_type": "code",
   "execution_count": null,
   "metadata": {},
   "outputs": [],
   "source": [
    "#sort days by number of infected individuals and print days with highest number of infections\n",
    "sorted_indices = np.argsort(SIR_data['infected'])\n",
    "print(\"\\nDays with highest number of infections:\")\n",
    "print(SIR_data[sorted_indices][-10:]) #Top 10 days\n",
    "\n",
    "# Find days where infections exceed a threshold\n",
    "threshold = 150\n",
    "days_above_threshold = SIR_data['day'][SIR_data['infected'] > threshold]\n",
    "print(f\"\\nDays with infections above {threshold}:\")\n",
    "print(days_above_threshold)\n",
    "\n",
    "\n",
    "# Cumulative sum of infected individuals\n",
    "cumulative_infected = np.cumsum(SIR_data['infected'])\n",
    "print(f\"\\nCumulative Infected: {cumulative_infected}\")\n",
    " # Mean number of infected individuals over the simulation period\n",
    "mean_infected = np.mean(SIR_data['infected'])\n",
    "print(f\"\\nMean Infected: {mean_infected}\")\n",
    "\n",
    "# Find peak number of infections\n",
    "peak_infections = np.max(SIR_data['infected'])\n",
    "peak_day = np.argmax(SIR_data['infected'])\n",
    "print(f\"\\nPeak Day of infections: {peak_day}\")\n",
    "\n",
    "# Analyze specific periods of the simulation\n",
    "first_50_days_infected = SIR_data['infected'][:50]\n",
    "print(f\"\\nFirst 50 days: {first_50_days_infected}\")\n",
    "# Mean and maximum of infections in the first 50 days\n",
    "mean_infected_first_50 = np.mean(first_50_days_infected)\n",
    "print(f\"\\nMean Infected in first 50 days: {mean_infected_first_50}\")\n",
    "max_infected_first_50 = np.max(first_50_days_infected)\n",
    "print(f\"\\nMax infected in first 50 days: {max_infected_first_50}\")\n",
    "\n",
    "days_recovered_surpass_infected = np.where(SIR_data['recovered'] > SIR_data['infected'])[0]\n",
    "if days_recovered_surpass_infected.size > 0:\n",
    "    first_day_recovered_surpass_infected = days_recovered_surpass_infected[0]\n",
    "    print(f\"\\nDays recovered individuals exceeded infected individuals: {days_recovered_surpass_infected}\")\n",
    "else:\n",
    "    first_day_recovered_surpass_infected = None\n",
    "    print(f\"\\nThere was no day that the recovered individuals exceed infected individuals.\")\n"
   ]
  },
  {
   "cell_type": "markdown",
   "metadata": {},
   "source": [
    "### Monte Carlo Simulation of the SIR Model"
   ]
  },
  {
   "cell_type": "code",
   "execution_count": 20,
   "metadata": {},
   "outputs": [
    {
     "name": "stdout",
     "output_type": "stream",
     "text": [
      "Final infected individuals form each simulation\n",
      ":  [0.00874485 0.008097   0.00591528 0.00757219 0.00676454 0.00569331\n",
      " 0.00676454 0.00874485 0.00569331 0.008097   0.00676454 0.008097\n",
      " 0.00644413 0.00957384 0.00874485 0.00676454 0.008097   0.00676454\n",
      " 0.00591528 0.00644413 0.00957384 0.00874485 0.008097   0.00591528\n",
      " 0.00874485 0.00874485 0.00644413 0.00957384 0.00676454 0.00644413\n",
      " 0.00591528 0.00616362 0.00616362 0.00957384 0.008097   0.008097\n",
      " 0.008097   0.00616362 0.00757219 0.008097   0.00713551 0.00616362\n",
      " 0.00676454 0.00616362 0.00957384 0.00591528 0.008097   0.00874485\n",
      " 0.00874485 0.00644413 0.00874485 0.00676454 0.00874485 0.00757219\n",
      " 0.00957384 0.00676454 0.00957384 0.00569331 0.00874485 0.00616362\n",
      " 0.00569331 0.00644413 0.00644413 0.00713551 0.00644413 0.00713551\n",
      " 0.00957384 0.00616362 0.00713551 0.00713551 0.00591528 0.00957384\n",
      " 0.00569331 0.00757219 0.00676454 0.008097   0.00713551 0.00644413\n",
      " 0.00616362 0.00676454 0.008097   0.00644413 0.00569331 0.00616362\n",
      " 0.00569331 0.00591528 0.00874485 0.00957384 0.00957384 0.00569331\n",
      " 0.00569331 0.00644413 0.00676454 0.008097   0.00957384 0.00569331\n",
      " 0.00713551 0.00957384 0.00644413 0.00757219]\n",
      "\n",
      "Mean final number of infected individuals: 0.007347851880802153\n",
      "\n",
      "Standard deviation of final number of infected individuals: 0.0012804064882964684\n"
     ]
    }
   ],
   "source": [
    "# Monte Carlo simulation to estimate the impact of random initial infected\n",
    "def monte_carlo_simulation(S0, I0_range, R0, beta, gamma, days, num_simulations):\n",
    "\n",
    "    final_infected = np.zeros(num_simulations)\n",
    "\n",
    "    for i in range(num_simulations):\n",
    "        # Randomize the initial number of infected individuals within the specified range\n",
    "        I0 = np.random.randint(I0_range[0], I0_range[1])\n",
    "        \n",
    "        # Run the SIR model\n",
    "        SIR_data = SIR_model(S0, I0, R0, beta, gamma, days)\n",
    "        \n",
    "        # Store the final number of infected individuals\n",
    "        final_infected[i] = SIR_data['infected'][-1]\n",
    "    \n",
    "    return final_infected\n",
    "\n",
    "S0 = 990\n",
    "I0_range = (5, 15)\n",
    "R0 = 0\n",
    "beta = 0.3\n",
    "gamma = 0.1\n",
    "days = 160\n",
    "num_simulations = 100\n",
    "\n",
    "# Run Monte Carlo Simulation\n",
    "final_infected_results = monte_carlo_simulation(S0, I0_range, R0, beta, gamma, days, num_simulations)\n",
    "print(\"Final infected individuals form each simulation\\n: \", final_infected_results)\n",
    "\n",
    "# Analyze the results\n",
    "mean_final_infected = np.mean(final_infected_results)\n",
    "std_final_infected = np.std(final_infected_results)\n",
    "\n",
    "print(f\"\\nMean final number of infected individuals: {mean_final_infected}\")\n",
    "print(f\"\\nStandard deviation of final number of infected individuals: {std_final_infected}\")\n"
   ]
  }
 ],
 "metadata": {
  "kernelspec": {
   "display_name": "my-env",
   "language": "python",
   "name": "python3"
  },
  "language_info": {
   "codemirror_mode": {
    "name": "ipython",
    "version": 3
   },
   "file_extension": ".py",
   "mimetype": "text/x-python",
   "name": "python",
   "nbconvert_exporter": "python",
   "pygments_lexer": "ipython3",
   "version": "3.12.3"
  }
 },
 "nbformat": 4,
 "nbformat_minor": 2
}
